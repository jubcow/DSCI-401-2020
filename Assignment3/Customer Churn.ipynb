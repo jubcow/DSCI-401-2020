{
 "cells": [
  {
   "cell_type": "markdown",
   "metadata": {},
   "source": [
    "One of the important applications of classification techniques in marketing analytics lies in predicting whether\n",
    "individual customers will defect to a competitor over a fixed time period (e.g. over the next year). Your goal is to\n",
    "build the best model possible to predict churn. In this problem you will use the “churn_data.csv” file to make these\n",
    "kinds of predictions, and you will implement a Jupyter notebook to accomplish this. Please make sure your Jupyter\n",
    "notebook addresses the questions with appropriate discussion (i.e. you will want to include appropriate discussion\n",
    "around your code).\n",
    "\n",
    "1) Load the “churn_data.csv” dataset into Python. What is the response variable, and what are the predictor variables?\n",
    "\n",
    "2) What data transforms are necessary to perform on this data and why?\n",
    "\n",
    "3) What modeling approaches did you use and why? Describe your model development process, including the different models tried, feature selection methods, and the different transformation techniques you employed. (**NOTE: Please do not forget to use your KNN algorithm from part 1 as one of your methods).\n",
    "\n",
    "4) Which error metrics did you use to assess performance and why? What kind of performance did you obtain on the different models you built?\n",
    "\n",
    "5) Construct the best (i.e. least-error) possible model on this data set. What are the predictors used?\n",
    "\n",
    "6) Load the dataset “churn_validation.csv” into a new data frame and recode as necessary. Predict the outcomes for each of the customers and compare to the actual. What are the error rates you get based on your selected metrics?\n",
    "\n",
    "7) Consider the best model you built for this problem. Is it a good model that can reliably be used for prediction? Why or why not?"
   ]
  }
 ],
 "metadata": {
  "kernelspec": {
   "display_name": "Python 3",
   "language": "python",
   "name": "python3"
  },
  "language_info": {
   "codemirror_mode": {
    "name": "ipython",
    "version": 3
   },
   "file_extension": ".py",
   "mimetype": "text/x-python",
   "name": "python",
   "nbconvert_exporter": "python",
   "pygments_lexer": "ipython3",
   "version": "3.7.4"
  }
 },
 "nbformat": 4,
 "nbformat_minor": 2
}
