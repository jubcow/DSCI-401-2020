{
 "cells": [
  {
   "cell_type": "markdown",
   "metadata": {},
   "source": [
    "# Feature Selection Examples\n",
    "\n",
    "This notebook provides a few examples of how to do feature selection with sklearn."
   ]
  },
  {
   "cell_type": "code",
   "execution_count": 17,
   "metadata": {},
   "outputs": [],
   "source": [
    "import pandas as pd\n",
    "import matplotlib.pyplot as plt\n",
    "import pprint\n",
    "from sklearn import linear_model\n",
    "from sklearn.model_selection import train_test_split\n",
    "from sklearn.feature_selection import f_regression\n",
    "from sklearn.feature_selection import SelectPercentile\n",
    "from sklearn.feature_selection import SelectKBest\n",
    "from sklearn.feature_selection import RFECV\n",
    "from sklearn.metrics import make_scorer\n",
    "from sklearn.metrics import r2_score\n",
    "from data_util import *\n",
    "\n",
    "cars = pd.read_csv('./data/mtcars.csv')\n",
    "data_x = cars[list(cars)[1:]]\n",
    "data_y = cars[list(cars)[0]]"
   ]
  },
  {
   "cell_type": "markdown",
   "metadata": {},
   "source": [
    "### 1. Split into Training and Test Sets"
   ]
  },
  {
   "cell_type": "code",
   "execution_count": 6,
   "metadata": {},
   "outputs": [],
   "source": [
    "x_train, x_test, y_train, y_test = train_test_split(data_x, data_y, test_size=0.2, \n",
    "                                                   random_state=4)"
   ]
  },
  {
   "cell_type": "markdown",
   "metadata": {},
   "source": [
    "### 2. Build Base Model"
   ]
  },
  {
   "cell_type": "code",
   "execution_count": 7,
   "metadata": {},
   "outputs": [
    {
     "name": "stdout",
     "output_type": "stream",
     "text": [
      "MSE, MAE, R^2, EVS: [24.51493293197121, 4.3870307737591006, 0.634381669142229, 0.7656962491586179]\n"
     ]
    }
   ],
   "source": [
    "base_model = linear_model.LinearRegression()\n",
    "base_model.fit(x_train, y_train)\n",
    "preds = base_model.predict(x_test)\n",
    "print_regression_error_report(y_test, preds)"
   ]
  },
  {
   "cell_type": "markdown",
   "metadata": {},
   "source": [
    "### 3. Use Percentile-Based Feature Selection"
   ]
  },
  {
   "cell_type": "code",
   "execution_count": 12,
   "metadata": {},
   "outputs": [
    {
     "name": "stdout",
     "output_type": "stream",
     "text": [
      "F-score, p-value (mpg): 72.60897277172427, 1.4285485646903708e-08\n",
      "F-score, p-value (cyl): 52.37926936274743, 2.288405556460013e-07\n",
      "F-score, p-value (disp): 28.728860103230335, 1.918656593805583e-05\n",
      "F-score, p-value (hp): 14.982418395530182, 0.0007751208908700202\n",
      "F-score, p-value (drat): 95.9791939506271, 1.1242991837306483e-09\n",
      "F-score, p-value (wt): 3.0574333594941234, 0.09370523006136659\n",
      "F-score, p-value (qsec): 12.843088079770348, 0.0015714445870867975\n",
      "F-score, p-value (vs): 8.266762931256759, 0.008549929449842912\n",
      "F-score, p-value (am): 6.894741767136821, 0.01511038230276851\n",
      "F-score, p-value (gear): 5.8645189056937435, 0.023739272527108935\n"
     ]
    }
   ],
   "source": [
    "# Get top 25% features by F-score\n",
    "selector_f = SelectPercentile(f_regression, percentile=25)\n",
    "selector_f.fit(x_train, y_train)\n",
    "\n",
    "# Print the f-score and p-value info\n",
    "for name, score, pv in zip(list(cars), selector_f.scores_, selector_f.pvalues_):\n",
    "    print('F-score, p-value (' + name + '): ' + str(score) + ', ' + str(pv))\n",
    "    \n"
   ]
  },
  {
   "cell_type": "code",
   "execution_count": 15,
   "metadata": {},
   "outputs": [
    {
     "name": "stdout",
     "output_type": "stream",
     "text": [
      "MSE, MAE, R^2, EVS: [19.988618207227002, 4.1125419122460265, 0.6673504425122332, 0.7324619718569146]\n"
     ]
    }
   ],
   "source": [
    "# Get the columns of the best 25% features\n",
    "xt_train, xt_test = selector_f.transform(x_train), selector_f.transform(x_test)\n",
    "\n",
    "# Create a model that uses these 25% best features only\n",
    "model = linear_model.LinearRegression()\n",
    "model.fit(xt_train, y_train)\n",
    "\n",
    "# Make predictions and look at results\n",
    "preds = model.predict(xt_test)\n",
    "print_regression_error_report(preds, y_test)"
   ]
  },
  {
   "cell_type": "markdown",
   "metadata": {},
   "source": [
    "### 4. Use K-Best Feature Selection"
   ]
  },
  {
   "cell_type": "code",
   "execution_count": 16,
   "metadata": {},
   "outputs": [
    {
     "name": "stdout",
     "output_type": "stream",
     "text": [
      "MSE, MAE, R^2, EVS: [19.988618207227002, 4.1125419122460265, 0.6673504425122332, 0.7324619718569146]\n"
     ]
    }
   ],
   "source": [
    "selector_f = SelectKBest(f_regression, k=3) # Select the top 3 features\n",
    "selector_f.fit(x_train, y_train)\n",
    "\n",
    "# Get the columns of the best 3 features\n",
    "xt_train, xt_test = selector_f.transform(x_train), selector_f.transform(x_test)\n",
    "\n",
    "# Create a model that uses these 3 best features only\n",
    "model = linear_model.LinearRegression()\n",
    "model.fit(xt_train, y_train)\n",
    "\n",
    "# Make predictions and look at results\n",
    "preds = model.predict(xt_test)\n",
    "print_regression_error_report(preds, y_test)"
   ]
  },
  {
   "cell_type": "markdown",
   "metadata": {},
   "source": [
    "### 5. Use Recursive Feature Elimination with Cross Validation"
   ]
  },
  {
   "cell_type": "code",
   "execution_count": 18,
   "metadata": {},
   "outputs": [
    {
     "name": "stdout",
     "output_type": "stream",
     "text": [
      "MSE, MAE, R^2, EVS: [20.98193480610998, 4.632496505789522, 0.6879483251172415, 0.7495733392019129]\n"
     ]
    }
   ],
   "source": [
    "# Use RFECV to arrive at approximately the best set of features. RFECV is a greedy method.\n",
    "selector_f = RFECV(estimator=linear_model.LinearRegression(), \n",
    "                   scoring=make_scorer(r2_score),\n",
    "                   cv=5) \n",
    "selector_f.fit(x_train, y_train)\n",
    "\n",
    "# Get the columns of the best 3 features\n",
    "xt_train, xt_test = selector_f.transform(x_train), selector_f.transform(x_test)\n",
    "\n",
    "# Create a model that uses these 3 best features only\n",
    "model = linear_model.LinearRegression()\n",
    "model.fit(xt_train, y_train)\n",
    "\n",
    "# Make predictions and look at results\n",
    "preds = model.predict(xt_test)\n",
    "print_regression_error_report(preds, y_test)"
   ]
  },
  {
   "cell_type": "code",
   "execution_count": null,
   "metadata": {},
   "outputs": [],
   "source": []
  }
 ],
 "metadata": {
  "kernelspec": {
   "display_name": "Python 3",
   "language": "python",
   "name": "python3"
  },
  "language_info": {
   "codemirror_mode": {
    "name": "ipython",
    "version": 3
   },
   "file_extension": ".py",
   "mimetype": "text/x-python",
   "name": "python",
   "nbconvert_exporter": "python",
   "pygments_lexer": "ipython3",
   "version": "3.7.3"
  }
 },
 "nbformat": 4,
 "nbformat_minor": 2
}
