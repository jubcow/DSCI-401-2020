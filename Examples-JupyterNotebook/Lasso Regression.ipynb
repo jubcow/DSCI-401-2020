{
 "cells": [
  {
   "cell_type": "markdown",
   "metadata": {},
   "source": [
    "# Lasso Regression\n",
    "\n",
    "This notebook illustrates how to use Lasso regression."
   ]
  },
  {
   "cell_type": "code",
   "execution_count": 34,
   "metadata": {
    "scrolled": true
   },
   "outputs": [],
   "source": [
    "import pandas as pd\n",
    "import matplotlib.pyplot as plt\n",
    "import pprint\n",
    "from sklearn import linear_model\n",
    "from sklearn.model_selection import train_test_split\n",
    "from sklearn.metrics import make_scorer\n",
    "from sklearn.metrics import r2_score\n",
    "from data_util import *\n",
    "\n",
    "cars = pd.read_csv(\"../data/mtcars.csv\",encoding='utf-8')\n",
    "data_x = cars[list(cars)[1:]]\n",
    "data_y = cars[list(cars)[0]]"
   ]
  },
  {
   "cell_type": "markdown",
   "metadata": {},
   "source": [
    "### 1. Split Into Train and Test Sets"
   ]
  },
  {
   "cell_type": "code",
   "execution_count": 35,
   "metadata": {},
   "outputs": [],
   "source": [
    "x_train, x_test, y_train, y_test = train_test_split(data_x, data_y, test_size=0.2, \n",
    "                                                   random_state=4)"
   ]
  },
  {
   "cell_type": "markdown",
   "metadata": {},
   "source": [
    "### 2. Build a Base Model (OLS) for Comparison"
   ]
  },
  {
   "cell_type": "code",
   "execution_count": 36,
   "metadata": {},
   "outputs": [
    {
     "name": "stdout",
     "output_type": "stream",
     "text": [
      "MSE, MAE, R^2, EVS: [24.51493293197122, 4.387030773759097, 0.6368726712479109, 0.7672925890777511]\n"
     ]
    }
   ],
   "source": [
    "base_mod = linear_model.LinearRegression()\n",
    "base_mod.fit(x_train, y_train)\n",
    "preds = base_mod.predict(x_test)\n",
    "print_regression_error_report(preds, y_test)"
   ]
  },
  {
   "cell_type": "markdown",
   "metadata": {},
   "source": [
    "### 3. Build Lasso Models and Compare to Base"
   ]
  },
  {
   "cell_type": "code",
   "execution_count": 37,
   "metadata": {},
   "outputs": [
    {
     "name": "stdout",
     "output_type": "stream",
     "text": [
      "Error Report for Alpha = 0.0:\n",
      "MSE, MAE, R^2, EVS: [24.514932931971266, 4.3870307737591006, 0.6368726712479107, 0.7672925890777512]\n",
      "Error Report for Alpha = 0.01:\n",
      "MSE, MAE, R^2, EVS: [19.607572847987843, 3.84097010856917, 0.6952949237503563, 0.769996262915051]\n",
      "Error Report for Alpha = 0.1:\n",
      "MSE, MAE, R^2, EVS: [18.607654143055843, 3.0466517269812456, 0.622672210103455, 0.7110663146986703]\n",
      "Error Report for Alpha = 0.25:\n",
      "MSE, MAE, R^2, EVS: [21.439798491583538, 2.137778176385133, 0.3319756189114973, 0.4710819411981455]\n",
      "Error Report for Alpha = 0.5:\n",
      "MSE, MAE, R^2, EVS: [33.200146663726855, 0.7815409429186069, -1.7019536891713027, -1.3234082904575102]\n",
      "Error Report for Alpha = 1.0:\n",
      "MSE, MAE, R^2, EVS: [71.44622399999999, 4.932000000000002, 0.0, 0.0]\n",
      "Error Report for Alpha = 2.5:\n",
      "MSE, MAE, R^2, EVS: [71.44622399999999, 4.932000000000002, 0.0, 0.0]\n",
      "Error Report for Alpha = 5.0:\n",
      "MSE, MAE, R^2, EVS: [71.44622399999999, 4.932000000000002, 0.0, 0.0]\n"
     ]
    },
    {
     "name": "stderr",
     "output_type": "stream",
     "text": [
      "C:\\Users\\Josh\\Anaconda3\\lib\\site-packages\\ipykernel_launcher.py:5: UserWarning: With alpha=0, this algorithm does not converge well. You are advised to use the LinearRegression estimator\n",
      "  \"\"\"\n",
      "C:\\Users\\Josh\\Anaconda3\\lib\\site-packages\\sklearn\\linear_model\\coordinate_descent.py:475: UserWarning: Coordinate descent with no regularization may lead to unexpected results and is discouraged.\n",
      "  positive)\n",
      "C:\\Users\\Josh\\Anaconda3\\lib\\site-packages\\sklearn\\linear_model\\coordinate_descent.py:475: ConvergenceWarning: Objective did not converge. You might want to increase the number of iterations. Duality gap: 18.614778854145918, tolerance: 0.06326543999999999\n",
      "  positive)\n"
     ]
    }
   ],
   "source": [
    "# Lasso minimizes the objective RSS + alpha * [sum of absolute value of coefficients]\n",
    "alphas = [0.0, 0.01, 0.1, 0.25, 0.5, 1.0, 2.5, 5.0]\n",
    "for a in alphas:\n",
    "    lasso_mod = linear_model.Lasso(alpha=a, normalize=True, fit_intercept=True)\n",
    "    lasso_mod.fit(x_train, y_train)\n",
    "    preds = lasso_mod.predict(x_test)\n",
    "    print('Error Report for Alpha = ' + str(a) + ':')\n",
    "    print_regression_error_report(preds, y_test)"
   ]
  },
  {
   "cell_type": "code",
   "execution_count": null,
   "metadata": {},
   "outputs": [],
   "source": []
  }
 ],
 "metadata": {
  "kernelspec": {
   "display_name": "Python 3",
   "language": "python",
   "name": "python3"
  },
  "language_info": {
   "codemirror_mode": {
    "name": "ipython",
    "version": 3
   },
   "file_extension": ".py",
   "mimetype": "text/x-python",
   "name": "python",
   "nbconvert_exporter": "python",
   "pygments_lexer": "ipython3",
   "version": "3.7.4"
  }
 },
 "nbformat": 4,
 "nbformat_minor": 2
}
