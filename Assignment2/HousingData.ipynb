{
 "cells": [
  {
   "cell_type": "markdown",
   "metadata": {},
   "source": [
    "## I. Data Preparation Questions\n",
    "### 1) What specific data transforms did you perform prior to exploration and analysis, and why did you choose these?\n",
    "\n",
    "I started by transforming categorical variables into one-hot-encoded format\n",
    "\n",
    "I then used a simple imputer with a 'most_frequent' strategy as it works with categorical data. Since I have strings representing categorical data in this data set if I tried to use 'mean' as a strategy I would get an error preventing me from using the imputer on my data."
   ]
  },
  {
   "cell_type": "code",
   "execution_count": 89,
   "metadata": {},
   "outputs": [],
   "source": [
    "import pandas as pd\n",
    "import matplotlib.pyplot as plt\n",
    "import pprint\n",
    "from sklearn import linear_model\n",
    "from sklearn.model_selection import train_test_split\n",
    "from sklearn.metrics import make_scorer\n",
    "from sklearn.metrics import r2_score\n",
    "from sklearn import preprocessing\n",
    "from sklearn.impute import SimpleImputer\n",
    "from data_util import *\n",
    "import numpy as np \n",
    "df_train = pd.read_csv('../data/AmesHousingSetA.csv')\n",
    "\n",
    "# Transform categorical variables into one-hot-encoded format\n",
    "df_train = pd.get_dummies(df_train, columns=cat_features(df_train))\n",
    "\n",
    "data_x = df_train[list(df_train)[1:]]\n",
    "data_y = df_train[list(df_train)[0]]"
   ]
  },
  {
   "cell_type": "code",
   "execution_count": 90,
   "metadata": {},
   "outputs": [
    {
     "data": {
      "text/html": [
       "<div>\n",
       "<style scoped>\n",
       "    .dataframe tbody tr th:only-of-type {\n",
       "        vertical-align: middle;\n",
       "    }\n",
       "\n",
       "    .dataframe tbody tr th {\n",
       "        vertical-align: top;\n",
       "    }\n",
       "\n",
       "    .dataframe thead th {\n",
       "        text-align: right;\n",
       "    }\n",
       "</style>\n",
       "<table border=\"1\" class=\"dataframe\">\n",
       "  <thead>\n",
       "    <tr style=\"text-align: right;\">\n",
       "      <th></th>\n",
       "      <th>MS.SubClass</th>\n",
       "      <th>Lot.Frontage</th>\n",
       "      <th>Lot.Area</th>\n",
       "      <th>Overall.Qual</th>\n",
       "      <th>Overall.Cond</th>\n",
       "      <th>Year.Built</th>\n",
       "      <th>Year.Remod.Add</th>\n",
       "      <th>Mas.Vnr.Area</th>\n",
       "      <th>BsmtFin.SF.1</th>\n",
       "      <th>BsmtFin.SF.2</th>\n",
       "      <th>...</th>\n",
       "      <th>Sale.Type_ConLw</th>\n",
       "      <th>Sale.Type_New</th>\n",
       "      <th>Sale.Type_Oth</th>\n",
       "      <th>Sale.Type_WD</th>\n",
       "      <th>Sale.Condition_Abnorml</th>\n",
       "      <th>Sale.Condition_AdjLand</th>\n",
       "      <th>Sale.Condition_Alloca</th>\n",
       "      <th>Sale.Condition_Family</th>\n",
       "      <th>Sale.Condition_Normal</th>\n",
       "      <th>Sale.Condition_Partial</th>\n",
       "    </tr>\n",
       "  </thead>\n",
       "  <tbody>\n",
       "    <tr>\n",
       "      <td>0</td>\n",
       "      <td>20</td>\n",
       "      <td>80.0</td>\n",
       "      <td>11622</td>\n",
       "      <td>5</td>\n",
       "      <td>6</td>\n",
       "      <td>1961</td>\n",
       "      <td>1961</td>\n",
       "      <td>0.0</td>\n",
       "      <td>468.0</td>\n",
       "      <td>144.0</td>\n",
       "      <td>...</td>\n",
       "      <td>0</td>\n",
       "      <td>0</td>\n",
       "      <td>0</td>\n",
       "      <td>1</td>\n",
       "      <td>0</td>\n",
       "      <td>0</td>\n",
       "      <td>0</td>\n",
       "      <td>0</td>\n",
       "      <td>1</td>\n",
       "      <td>0</td>\n",
       "    </tr>\n",
       "    <tr>\n",
       "      <td>1</td>\n",
       "      <td>20</td>\n",
       "      <td>81.0</td>\n",
       "      <td>14267</td>\n",
       "      <td>6</td>\n",
       "      <td>6</td>\n",
       "      <td>1958</td>\n",
       "      <td>1958</td>\n",
       "      <td>108.0</td>\n",
       "      <td>923.0</td>\n",
       "      <td>0.0</td>\n",
       "      <td>...</td>\n",
       "      <td>0</td>\n",
       "      <td>0</td>\n",
       "      <td>0</td>\n",
       "      <td>1</td>\n",
       "      <td>0</td>\n",
       "      <td>0</td>\n",
       "      <td>0</td>\n",
       "      <td>0</td>\n",
       "      <td>1</td>\n",
       "      <td>0</td>\n",
       "    </tr>\n",
       "    <tr>\n",
       "      <td>2</td>\n",
       "      <td>20</td>\n",
       "      <td>93.0</td>\n",
       "      <td>11160</td>\n",
       "      <td>7</td>\n",
       "      <td>5</td>\n",
       "      <td>1968</td>\n",
       "      <td>1968</td>\n",
       "      <td>0.0</td>\n",
       "      <td>1065.0</td>\n",
       "      <td>0.0</td>\n",
       "      <td>...</td>\n",
       "      <td>0</td>\n",
       "      <td>0</td>\n",
       "      <td>0</td>\n",
       "      <td>1</td>\n",
       "      <td>0</td>\n",
       "      <td>0</td>\n",
       "      <td>0</td>\n",
       "      <td>0</td>\n",
       "      <td>1</td>\n",
       "      <td>0</td>\n",
       "    </tr>\n",
       "    <tr>\n",
       "      <td>3</td>\n",
       "      <td>60</td>\n",
       "      <td>74.0</td>\n",
       "      <td>13830</td>\n",
       "      <td>5</td>\n",
       "      <td>5</td>\n",
       "      <td>1997</td>\n",
       "      <td>1998</td>\n",
       "      <td>0.0</td>\n",
       "      <td>791.0</td>\n",
       "      <td>0.0</td>\n",
       "      <td>...</td>\n",
       "      <td>0</td>\n",
       "      <td>0</td>\n",
       "      <td>0</td>\n",
       "      <td>1</td>\n",
       "      <td>0</td>\n",
       "      <td>0</td>\n",
       "      <td>0</td>\n",
       "      <td>0</td>\n",
       "      <td>1</td>\n",
       "      <td>0</td>\n",
       "    </tr>\n",
       "    <tr>\n",
       "      <td>4</td>\n",
       "      <td>60</td>\n",
       "      <td>78.0</td>\n",
       "      <td>9978</td>\n",
       "      <td>6</td>\n",
       "      <td>6</td>\n",
       "      <td>1998</td>\n",
       "      <td>1998</td>\n",
       "      <td>20.0</td>\n",
       "      <td>602.0</td>\n",
       "      <td>0.0</td>\n",
       "      <td>...</td>\n",
       "      <td>0</td>\n",
       "      <td>0</td>\n",
       "      <td>0</td>\n",
       "      <td>1</td>\n",
       "      <td>0</td>\n",
       "      <td>0</td>\n",
       "      <td>0</td>\n",
       "      <td>0</td>\n",
       "      <td>1</td>\n",
       "      <td>0</td>\n",
       "    </tr>\n",
       "  </tbody>\n",
       "</table>\n",
       "<p>5 rows × 299 columns</p>\n",
       "</div>"
      ],
      "text/plain": [
       "   MS.SubClass  Lot.Frontage  Lot.Area  Overall.Qual  Overall.Cond  \\\n",
       "0           20          80.0     11622             5             6   \n",
       "1           20          81.0     14267             6             6   \n",
       "2           20          93.0     11160             7             5   \n",
       "3           60          74.0     13830             5             5   \n",
       "4           60          78.0      9978             6             6   \n",
       "\n",
       "   Year.Built  Year.Remod.Add  Mas.Vnr.Area  BsmtFin.SF.1  BsmtFin.SF.2  ...  \\\n",
       "0        1961            1961           0.0         468.0         144.0  ...   \n",
       "1        1958            1958         108.0         923.0           0.0  ...   \n",
       "2        1968            1968           0.0        1065.0           0.0  ...   \n",
       "3        1997            1998           0.0         791.0           0.0  ...   \n",
       "4        1998            1998          20.0         602.0           0.0  ...   \n",
       "\n",
       "   Sale.Type_ConLw  Sale.Type_New  Sale.Type_Oth  Sale.Type_WD   \\\n",
       "0                0              0              0              1   \n",
       "1                0              0              0              1   \n",
       "2                0              0              0              1   \n",
       "3                0              0              0              1   \n",
       "4                0              0              0              1   \n",
       "\n",
       "   Sale.Condition_Abnorml  Sale.Condition_AdjLand  Sale.Condition_Alloca  \\\n",
       "0                       0                       0                      0   \n",
       "1                       0                       0                      0   \n",
       "2                       0                       0                      0   \n",
       "3                       0                       0                      0   \n",
       "4                       0                       0                      0   \n",
       "\n",
       "   Sale.Condition_Family  Sale.Condition_Normal  Sale.Condition_Partial  \n",
       "0                      0                      1                       0  \n",
       "1                      0                      1                       0  \n",
       "2                      0                      1                       0  \n",
       "3                      0                      1                       0  \n",
       "4                      0                      1                       0  \n",
       "\n",
       "[5 rows x 299 columns]"
      ]
     },
     "execution_count": 90,
     "metadata": {},
     "output_type": "execute_result"
    }
   ],
   "source": [
    "data_x.head()"
   ]
  },
  {
   "cell_type": "code",
   "execution_count": 91,
   "metadata": {},
   "outputs": [],
   "source": [
    "imputer = SimpleImputer(missing_values=np.nan, strategy='most_frequent')\n",
    "imputer.fit(data_x) \n",
    "data_x = imputer.transform(data_x)"
   ]
  },
  {
   "cell_type": "markdown",
   "metadata": {},
   "source": [
    "## II. Exploratory Analysis Questions\n",
    "### Perform an exploratory analysis on your data by visualizing and/or applying other means of data exploration.\n",
    "\n",
    "### 1) What (if any) insights jump out at you?\n",
    "Generally the more space a house has, the more it will be worth. The same goes for number of rooms/kitchens of course since you can't have more rooms without more space.\n",
    "\n",
    "### 2) Do you have any hypotheses about relationship of certain variables to the price?\n",
    "The larger the area the more expensive, the newer the building the more expensive, the higher the quality values the more expensive etc. It should line up with common sense when purchasing a home: the more desirable the more it will be worth.\n"
   ]
  },
  {
   "cell_type": "code",
   "execution_count": 92,
   "metadata": {},
   "outputs": [
    {
     "data": {
      "text/plain": [
       "count      2344.000000\n",
       "mean     180512.479522\n",
       "std       81071.834942\n",
       "min       12789.000000\n",
       "25%      129350.000000\n",
       "50%      160000.000000\n",
       "75%      213000.000000\n",
       "max      755000.000000\n",
       "Name: SalePrice, dtype: float64"
      ]
     },
     "execution_count": 92,
     "metadata": {},
     "output_type": "execute_result"
    }
   ],
   "source": [
    "# Get general info about sales prices in this data set\n",
    "df_train['SalePrice'].describe()"
   ]
  },
  {
   "cell_type": "code",
   "execution_count": 93,
   "metadata": {},
   "outputs": [
    {
     "data": {
      "image/png": "[encoded data removed]",
      "text/plain": [
       "<Figure size 432x288 with 1 Axes>"
      ]
     },
     "metadata": {
      "needs_background": "light"
     },
     "output_type": "display_data"
    }
   ],
   "source": [
    "# Check correlation with the above ground living area\n",
    "elem = 'Gr.Liv.Area'\n",
    "info = pd.concat([df_train['SalePrice'], df_train[elem]], axis=1)\n",
    "info.plot.scatter(x=elem, y='SalePrice');"
   ]
  },
  {
   "cell_type": "code",
   "execution_count": 94,
   "metadata": {},
   "outputs": [
    {
     "data": {
      "image/png": "[encoded data removed]",
      "text/plain": [
       "<Figure size 432x288 with 1 Axes>"
      ]
     },
     "metadata": {
      "needs_background": "light"
     },
     "output_type": "display_data"
    }
   ],
   "source": [
    "# Check correlation with the year built\n",
    "# It seems that generally the newer the house the more expensive it is except in the cases in which extremely old houses are considered historical or special due to their age.\n",
    "elem = 'Year.Built'\n",
    "info = pd.concat([df_train['SalePrice'], df_train[elem]], axis=1)\n",
    "info.plot.scatter(x=elem, y='SalePrice');"
   ]
  },
  {
   "cell_type": "markdown",
   "metadata": {},
   "source": [
    "## III. Model Building\n",
    "### First construct a baseline model (containing all predictors) to predict the price. Then build the best model you can devise. In this part use ONLY dataset A and DO NOT TOUCH dataset B. You will want to split this into training and test sets and apply error metrics/compare models only on the test data.\n",
    "\n",
    "### 1) What approach did you use to arrive at the best model? Why did you select this approach?\n",
    "By fitting on a linear regression model. I selected this approach because I expect there to be a linear relationship between price and the variables given in the dataset.\n",
    "\n",
    "### 2) Which error metric(s) are you using to compare performance? What is the value(s) of the error metric(s) for the baseline model and your best model?\n",
    "I am using Mean Square Error, Mean Absolute Error, R^2, AND Explained Variance Score. "
   ]
  },
  {
   "cell_type": "code",
   "execution_count": 95,
   "metadata": {},
   "outputs": [],
   "source": [
    "x_train, x_test, y_train, y_test = train_test_split(data_x, data_y, test_size=0.2, random_state=4)"
   ]
  },
  {
   "cell_type": "code",
   "execution_count": 96,
   "metadata": {},
   "outputs": [
    {
     "name": "stdout",
     "output_type": "stream",
     "text": [
      "MSE, MAE, R^2, EVS: [4397315503188949.5, 20148825.991405487, 0.8682360569828977, 0.8687800434313953]\n"
     ]
    }
   ],
   "source": [
    "base_mod = linear_model.LinearRegression()\n",
    "base_mod.fit(x_train, y_train)\n",
    "preds = base_mod.predict(x_test)\n",
    "print_regression_error_report(preds, y_test)"
   ]
  },
  {
   "cell_type": "markdown",
   "metadata": {},
   "source": [
    "## IV. Predicting and Validating\n",
    "### Run your baseline and best models on dataset B. DO NOT do any further training. Remember to apply all transforms you used in building the model to this set (use the transform function on the preprocessors you created in part I).\n",
    "\n",
    "### 1) What are the respective error metric values for each model on this set? How did your best model do on this data as compared to the baseline?\n",
    "\n",
    "\n",
    "### 2) Is your best model a good model? Why or why not"
   ]
  },
  {
   "cell_type": "code",
   "execution_count": null,
   "metadata": {},
   "outputs": [],
   "source": []
  }
 ],
 "metadata": {
  "kernelspec": {
   "display_name": "Python 3",
   "language": "python",
   "name": "python3"
  },
  "language_info": {
   "codemirror_mode": {
    "name": "ipython",
    "version": 3
   },
   "file_extension": ".py",
   "mimetype": "text/x-python",
   "name": "python",
   "nbconvert_exporter": "python",
   "pygments_lexer": "ipython3",
   "version": "3.7.4"
  }
 },
 "nbformat": 4,
 "nbformat_minor": 2
}
